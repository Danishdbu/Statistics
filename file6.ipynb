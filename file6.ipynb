{
 "cells": [
  {
   "cell_type": "markdown",
   "metadata": {},
   "source": [
    "# Binomial Distribution"
   ]
  },
  {
   "cell_type": "code",
   "execution_count": 1,
   "metadata": {},
   "outputs": [],
   "source": [
    "import pandas as pd\n",
    "import numpy as np\n",
    "import seaborn as sns\n",
    "import matplotlib.pyplot as plt"
   ]
  },
  {
   "cell_type": "code",
   "execution_count": 3,
   "metadata": {},
   "outputs": [
    {
     "data": {
      "image/png": "[encoded data removed]",
      "text/plain": [
       "<Figure size 432x288 with 1 Axes>"
      ]
     },
     "metadata": {
      "needs_background": "light"
     },
     "output_type": "display_data"
    }
   ],
   "source": [
    "n = 10  # number of trials\n",
    "p = 0.5  # probability of success\n",
    "size = 1000  # number of samples to generate\n",
    "\n",
    "binomial_dist = np.random.binomial(n, p, size)\n",
    "\n",
    "plt.hist(binomial_dist,density=True)\n",
    "plt.show()"
   ]
  },
  {
   "cell_type": "code",
   "execution_count": 15,
   "metadata": {},
   "outputs": [
    {
     "data": {
      "image/png": "[encoded data removed]",
      "text/plain": [
       "<Figure size 432x288 with 1 Axes>"
      ]
     },
     "metadata": {
      "needs_background": "light"
     },
     "output_type": "display_data"
    }
   ],
   "source": [
    "n = 10  # number of trials\n",
    "p = 0.8  # probability of success\n",
    "size = 1000  # number of samples to generate\n",
    "\n",
    "binomial_dist = np.random.binomial(n, p, size)\n",
    "\n",
    "plt.hist(binomial_dist,density=True)\n",
    "plt.show()"
   ]
  },
  {
   "cell_type": "code",
   "execution_count": 26,
   "metadata": {},
   "outputs": [
    {
     "data": {
      "image/png": "[encoded data removed]",
      "text/plain": [
       "<Figure size 432x288 with 1 Axes>"
      ]
     },
     "metadata": {
      "needs_background": "light"
     },
     "output_type": "display_data"
    }
   ],
   "source": [
    "n = 10  # number of trials\n",
    "p = 0.1  # probability of success\n",
    "size = 1000  # number of samples to generate\n",
    "\n",
    "binomial_dist = np.random.binomial(n, p, size)\n",
    "\n",
    "plt.hist(binomial_dist,density=True)\n",
    "plt.show()"
   ]
  },
  {
   "cell_type": "markdown",
   "metadata": {},
   "source": [
    "1. Binary classification problems: In binary classification problems, we often model\n",
    "the probability of an event happening as a binomial distribution. For example, in a\n",
    "spam detection system, we may model the probability of an email being spam or\n",
    "not spam using a binomial distribution.\n",
    "\n",
    "\n",
    "2. Hypothesis testing: In statistical hypothesis testing, we use the binomial\n",
    "distribution to calculate the probability of observing a certain number of\n",
    "successes in a given number of trials, assuming a null hypothesis is true. This can\n",
    "be used to make decisions about whether a certain hypothesis is supported by\n",
    "the data or not.\n",
    "\n",
    "\n",
    "3. Logistic regression: Logistic regression is a popular machine learning algorithm\n",
    "used for classification problems. It models the probability of an event happening\n",
    "as a logistic function of the input variables. Since the logistic function can be\n",
    "viewed as a transformation of a linear combination of inputs, the output of\n",
    "logistic regression can be thought of as a binomial distribution.\n",
    "\n",
    "\n",
    "4. A/B testing: A/B testing is a common technique used to compare two different\n",
    "versions of a product, web page, or marketing campaign. In A/B testing, we\n",
    "randomly assign individuals to one of two groups and compare the outcomes of\n",
    "interest between the groups. Since the outcomes are often binary (e.g., click-\n",
    "through rate or conversion rate), the binomial distribution can be used to model the distribution of outcomes and test for differences between the groups."
   ]
  },
  {
   "cell_type": "markdown",
   "metadata": {},
   "source": [
    "## Sampling Distribution\n",
    "### Sampling distribution is a probability distribution that describes the statistical properties of a sample statistic (such as the sample mean or sample proportion) computed from multiple independent samples of the same size from a population."
   ]
  },
  {
   "cell_type": "markdown",
   "metadata": {},
   "source": [
    "# Central Limit Theorem\n",
    "### The Central Limit Theorem (CLT) states that the distribution of the sample means of a large number of independent and identically distributed random variables will approach a normal distribution, regardless of the underlying distribution of the variables.\n",
    "### The conditions required for the CLT to hold are:\n",
    "  1. The sample size is large enough, typically greater than or equal to 30.\n",
    "  2. The sample is drawn from a finite population or an infinite population with a finite variance.\n",
    "  3. The random variables in the sample are independent and identically distributed."
   ]
  },
  {
   "cell_type": "code",
   "execution_count": 27,
   "metadata": {},
   "outputs": [],
   "source": [
    "# Set the parameters\n",
    "num_samples = 10000\n",
    "sample_size = 300\n",
    "distribution_range = (0, 1)\n",
    "\n",
    "# Generate samples from a uniform distribution\n",
    "samples = np.random.uniform(distribution_range[0], distribution_range[1], (num_samples, sample_size))"
   ]
  },
  {
   "cell_type": "code",
   "execution_count": 28,
   "metadata": {},
   "outputs": [
    {
     "data": {
      "text/plain": [
       "(10000, 300)"
      ]
     },
     "execution_count": 28,
     "metadata": {},
     "output_type": "execute_result"
    }
   ],
   "source": [
    "samples.shape"
   ]
  },
  {
   "cell_type": "code",
   "execution_count": 30,
   "metadata": {},
   "outputs": [
    {
     "data": {
      "text/plain": [
       "array([0.47647894, 0.46470087, 0.49599258, ..., 0.49696941, 0.50108393,\n",
       "       0.52919337])"
      ]
     },
     "execution_count": 30,
     "metadata": {},
     "output_type": "execute_result"
    }
   ],
   "source": [
    "# Calculate the sample means\n",
    "sample_means = np.mean(samples, axis=1)\n",
    "sample_means"
   ]
  },
  {
   "cell_type": "code",
   "execution_count": 31,
   "metadata": {},
   "outputs": [
    {
     "data": {
      "text/plain": [
       "(10000,)"
      ]
     },
     "execution_count": 31,
     "metadata": {},
     "output_type": "execute_result"
    }
   ],
   "source": [
    "sample_means.shape"
   ]
  },
  {
   "cell_type": "code",
   "execution_count": 32,
   "metadata": {},
   "outputs": [
    {
     "data": {
      "image/png": "[encoded data removed]",
      "text/plain": [
       "<Figure size 432x288 with 1 Axes>"
      ]
     },
     "metadata": {
      "needs_background": "light"
     },
     "output_type": "display_data"
    }
   ],
   "source": [
    "# Plot the histogram of the sample means\n",
    "plt.hist(sample_means, bins=30, density=True, edgecolor='black')\n",
    "plt.title('Histogram of Sample Means')\n",
    "plt.xlabel('Sample Mean')\n",
    "plt.ylabel('Density')\n",
    "plt.show()"
   ]
  },
  {
   "cell_type": "code",
   "execution_count": 37,
   "metadata": {},
   "outputs": [
    {
     "data": {
      "image/png": "[encoded data removed]",
      "text/plain": [
       "<Figure size 432x288 with 1 Axes>"
      ]
     },
     "metadata": {
      "needs_background": "light"
     },
     "output_type": "display_data"
    }
   ],
   "source": [
    "# Set the parameters\n",
    "num_samples = 1000\n",
    "sample_size = 50\n",
    "lambda_param = 2\n",
    "\n",
    "# Generate samples from an exponential distribution\n",
    "samples = np.random.exponential(scale=1/lambda_param, size=(num_samples, sample_size))\n",
    "\n",
    "# Calculate the sample means\n",
    "sample_means = np.mean(samples, axis=1)\n",
    "\n",
    "# Plot the histogram of the sample means\n",
    "plt.hist(sample_means, bins=30, density=True, edgecolor='black')\n",
    "plt.title('Histogram of Sample Means (Exponential Distribution)')\n",
    "plt.xlabel('Sample Mean')\n",
    "plt.ylabel('Density')\n",
    "plt.show()"
   ]
  },
  {
   "cell_type": "code",
   "execution_count": 38,
   "metadata": {},
   "outputs": [
    {
     "data": {
      "image/png": "[encoded data removed]",
      "text/plain": [
       "<Figure size 576x864 with 3 Axes>"
      ]
     },
     "metadata": {
      "needs_background": "light"
     },
     "output_type": "display_data"
    }
   ],
   "source": [
    "\n",
    "# Set the parameters\n",
    "num_samples = 1000\n",
    "sample_size = 50\n",
    "\n",
    "# Poisson distribution parameters\n",
    "poisson_lambda = 5\n",
    "\n",
    "# Gamma distribution parameters\n",
    "gamma_shape = 2\n",
    "gamma_scale = 1\n",
    "\n",
    "# Binomial distribution parameters\n",
    "binomial_n = 10\n",
    "binomial_p = 0.5\n",
    "\n",
    "# Generate samples from the distributions\n",
    "poisson_samples = np.random.poisson(lam=poisson_lambda, size=(num_samples, sample_size))\n",
    "gamma_samples = np.random.gamma(shape=gamma_shape, scale=gamma_scale, size=(num_samples, sample_size))\n",
    "binomial_samples = np.random.binomial(n=binomial_n, p=binomial_p, size=(num_samples, sample_size))\n",
    "\n",
    "# Calculate the sample means\n",
    "poisson_means = np.mean(poisson_samples, axis=1)\n",
    "gamma_means = np.mean(gamma_samples, axis=1)\n",
    "binomial_means = np.mean(binomial_samples, axis=1)\n",
    "\n",
    "# Plot the histograms of the sample means\n",
    "fig, axs = plt.subplots(3, 1, figsize=(8, 12))\n",
    "\n",
    "# Poisson distribution\n",
    "axs[0].hist(poisson_means, bins=30, density=True, edgecolor='black')\n",
    "axs[0].set_title('Histogram of Sample Means (Poisson Distribution)')\n",
    "axs[0].set_xlabel('Sample Mean')\n",
    "axs[0].set_ylabel('Density')\n",
    "\n",
    "# Gamma distribution\n",
    "axs[1].hist(gamma_means, bins=30, density=True, edgecolor='black')\n",
    "axs[1].set_title('Histogram of Sample Means (Gamma Distribution)')\n",
    "axs[1].set_xlabel('Sample Mean')\n",
    "axs[1].set_ylabel('Density')\n",
    "\n",
    "# Binomial distribution\n",
    "axs[2].hist(binomial_means, bins=30, density=True, edgecolor='black')\n",
    "axs[2].set_title('Histogram of Sample Means (Binomial Distribution)')\n",
    "axs[2].set_xlabel('Sample Mean')\n",
    "axs[2].set_ylabel('Density')\n",
    "\n",
    "# Adjust the layout and show the plot\n",
    "fig.tight_layout()\n",
    "plt.show()"
   ]
  },
  {
   "cell_type": "markdown",
   "metadata": {},
   "source": [
    "### CLT Demo Gamma Distribution"
   ]
  },
  {
   "cell_type": "code",
   "execution_count": 39,
   "metadata": {},
   "outputs": [
    {
     "name": "stdout",
     "output_type": "stream",
     "text": [
      "Theoretical mean: 2.0000\n",
      "Empirical mean: 1.9991\n",
      "\n",
      "\n",
      "Theoretical variance: 2.0000\n",
      "Empirical variance: 0.0413\n"
     ]
    }
   ],
   "source": [
    "\n",
    "# Set the parameters\n",
    "num_samples = 10000\n",
    "sample_size = 50\n",
    "\n",
    "# Gamma distribution parameters\n",
    "gamma_shape = 2\n",
    "gamma_scale = 1\n",
    "\n",
    "# Calculate the theoretical mean and variance\n",
    "theoretical_mean = gamma_shape * gamma_scale\n",
    "theoretical_variance = (gamma_shape * gamma_scale ** 2)\n",
    "\n",
    "# Generate samples from the Gamma distribution\n",
    "samples = np.random.gamma(shape=gamma_shape, scale=gamma_scale, size=(num_samples, sample_size))\n",
    "\n",
    "# Calculate the sample means\n",
    "sample_means = np.mean(samples, axis=1)\n",
    "\n",
    "# Calculate the empirical mean and variance of the sample means\n",
    "empirical_mean = np.mean(sample_means)\n",
    "empirical_variance = np.var(sample_means)\n",
    "\n",
    "# Compare the theoretical and empirical values\n",
    "print(f\"Theoretical mean: {theoretical_mean:.4f}\")\n",
    "print(f\"Empirical mean: {empirical_mean:.4f}\")\n",
    "print(f\"\\n\")\n",
    "print(f\"Theoretical variance: {theoretical_variance:.4f}\")\n",
    "print(f\"Empirical variance: {empirical_variance:.4f}\")"
   ]
  },
  {
   "cell_type": "code",
   "execution_count": 40,
   "metadata": {},
   "outputs": [
    {
     "data": {
      "text/plain": [
       "0.04"
      ]
     },
     "execution_count": 40,
     "metadata": {},
     "output_type": "execute_result"
    }
   ],
   "source": [
    "2.0000/50"
   ]
  },
  {
   "cell_type": "markdown",
   "metadata": {},
   "source": [
    "# CASE Study 1- Titanic Fare"
   ]
  },
  {
   "cell_type": "code",
   "execution_count": 44,
   "metadata": {},
   "outputs": [],
   "source": [
    "df = sns.load_dataset('titanic')"
   ]
  },
  {
   "cell_type": "code",
   "execution_count": 45,
   "metadata": {},
   "outputs": [
    {
     "data": {
      "text/plain": [
       "(891, 15)"
      ]
     },
     "execution_count": 45,
     "metadata": {},
     "output_type": "execute_result"
    }
   ],
   "source": [
    "df.shape"
   ]
  },
  {
   "cell_type": "code",
   "execution_count": 47,
   "metadata": {},
   "outputs": [
    {
     "data": {
      "text/plain": [
       "<AxesSubplot:ylabel='Density'>"
      ]
     },
     "execution_count": 47,
     "metadata": {},
     "output_type": "execute_result"
    },
    {
     "data": {
      "image/png": "[encoded data removed]",
      "text/plain": [
       "<Figure size 432x288 with 1 Axes>"
      ]
     },
     "metadata": {
      "needs_background": "light"
     },
     "output_type": "display_data"
    }
   ],
   "source": [
    "df['fare'].plot(kind='kde')"
   ]
  },
  {
   "cell_type": "code",
   "execution_count": 48,
   "metadata": {},
   "outputs": [],
   "source": [
    "# sample size = 50 -> 100 times\n",
    "samples = []\n",
    "for i in range(100):\n",
    "    samples.append(df['fare'].dropna().sample(50).values.tolist())"
   ]
  },
  {
   "cell_type": "code",
   "execution_count": 49,
   "metadata": {},
   "outputs": [],
   "source": [
    "samples = np.array(samples)"
   ]
  },
  {
   "cell_type": "code",
   "execution_count": 50,
   "metadata": {},
   "outputs": [],
   "source": [
    "sampling_means = samples.mean(axis=1)"
   ]
  },
  {
   "cell_type": "code",
   "execution_count": 51,
   "metadata": {},
   "outputs": [
    {
     "data": {
      "text/plain": [
       "<AxesSubplot:ylabel='Density'>"
      ]
     },
     "execution_count": 51,
     "metadata": {},
     "output_type": "execute_result"
    },
    {
     "data": {
      "image/png": "[encoded data removed]",
      "text/plain": [
       "<Figure size 432x288 with 1 Axes>"
      ]
     },
     "metadata": {
      "needs_background": "light"
     },
     "output_type": "display_data"
    }
   ],
   "source": [
    "sns.kdeplot(sampling_means)"
   ]
  },
  {
   "cell_type": "code",
   "execution_count": 52,
   "metadata": {},
   "outputs": [
    {
     "data": {
      "text/plain": [
       "33.0938924"
      ]
     },
     "execution_count": 52,
     "metadata": {},
     "output_type": "execute_result"
    }
   ],
   "source": [
    "sampling_means.mean()"
   ]
  },
  {
   "cell_type": "code",
   "execution_count": 53,
   "metadata": {},
   "outputs": [
    {
     "data": {
      "text/plain": [
       "1.0456611844716388"
      ]
     },
     "execution_count": 53,
     "metadata": {},
     "output_type": "execute_result"
    }
   ],
   "source": [
    "sampling_means.std()/np.sqrt(50)"
   ]
  },
  {
   "cell_type": "code",
   "execution_count": 54,
   "metadata": {},
   "outputs": [],
   "source": [
    "lower_limit = sampling_means.mean() - 2*sampling_means.std()\n",
    "upper_limit = sampling_means.mean() + 2*sampling_means.std()"
   ]
  },
  {
   "cell_type": "code",
   "execution_count": 55,
   "metadata": {},
   "outputs": [
    {
     "name": "stdout",
     "output_type": "stream",
     "text": [
      "The range is 18.306010112730938 to 47.881774687269065\n"
     ]
    }
   ],
   "source": [
    "print('The range is',lower_limit,'to',upper_limit)"
   ]
  },
  {
   "cell_type": "code",
   "execution_count": 57,
   "metadata": {},
   "outputs": [
    {
     "data": {
      "text/plain": [
       "32.2042079685746"
      ]
     },
     "execution_count": 57,
     "metadata": {},
     "output_type": "execute_result"
    }
   ],
   "source": [
    "df['fare'].dropna().mean()"
   ]
  },
  {
   "cell_type": "markdown",
   "metadata": {},
   "source": [
    "# Case Study - What is the average income of Indians"
   ]
  },
  {
   "cell_type": "markdown",
   "metadata": {},
   "source": [
    "### Step-by-step process:\n",
    "1. Collect multiple random samples of salaries from a representative group\n",
    "of Indians. Each sample should be large enough (usually, n > 30) to ensure\n",
    "the CLT holds. Make sure the samples are representative and unbiased to\n",
    "avoid skewed results.\n",
    "\n",
    "\n",
    "2. Calculate the sample mean (average salary) and sample standard\n",
    "deviation for each sample.\n",
    "\n",
    "\n",
    "3. Calculate the average of the sample means. This value will be your best\n",
    "estimate of the population mean (average salary of all Indians).\n",
    "\n",
    "\n",
    "4. Calculate the standard error of the sample means, which is the standard\n",
    "deviation of the sample means divided by the square root of the number\n",
    "of samples.\n",
    "\n",
    "\n",
    "5. Calculate the confidence interval around the average of the sample means\n",
    "to get a range within which the true population mean likely falls. For a\n",
    "95% confidence interval:\n",
    "\n",
    "\n",
    "#### `lower_limit = average_sample_means - 1.96 * standard_error`\n",
    "#### `upper_limit = average_sample_means + 1.96 * standard_error`\n",
    "\n",
    "6. Report the estimated average salary and the confidence interval.\n"
   ]
  },
  {
   "cell_type": "code",
   "execution_count": 58,
   "metadata": {},
   "outputs": [
    {
     "name": "stdout",
     "output_type": "stream",
     "text": [
      "Estimated average salary (in thousands): 124.74\n",
      "95% confidence interval (in thousands): (121.23, 128.26)\n"
     ]
    }
   ],
   "source": [
    "# Set the parameters\n",
    "population_size = 100000\n",
    "sample_size = 50\n",
    "num_samples = 100\n",
    "\n",
    "# Generate a random representative sample of salaries (in thousands)\n",
    "# You should replace this with actual collected salary data\n",
    "np.random.seed(42)  # Setting a seed for reproducibility\n",
    "population_salaries = np.random.lognormal(mean=4.5, sigma=0.8, size=population_size)\n",
    "\n",
    "# Generate multiple samples and calculate the sample means and standard deviations\n",
    "sample_means = []\n",
    "sample_std_devs = []\n",
    "\n",
    "for _ in range(num_samples):\n",
    "  sample_salaries = np.random.choice(population_salaries, size=sample_size)\n",
    "  sample_means.append(np.mean(sample_salaries))\n",
    "  sample_std_devs.append(np.std(sample_salaries))\n",
    "\n",
    "# Calculate the average of the sample means and the standard error\n",
    "average_sample_means = np.mean(sample_means)\n",
    "standard_error = np.std(sample_means) / np.sqrt(num_samples)\n",
    "\n",
    "# Calculate the 95% confidence interval\n",
    "margin_of_error = 1.96 * standard_error\n",
    "lower_limit = average_sample_means - margin_of_error\n",
    "upper_limit = average_sample_means + margin_of_error\n",
    "\n",
    "# Report the results\n",
    "print(f\"Estimated average salary (in thousands): {average_sample_means:.2f}\")\n",
    "print(f\"95% confidence interval (in thousands): ({lower_limit:.2f}, {upper_limit:.2f})\")"
   ]
  },
  {
   "cell_type": "code",
   "execution_count": null,
   "metadata": {},
   "outputs": [],
   "source": []
  }
 ],
 "metadata": {
  "kernelspec": {
   "display_name": "base",
   "language": "python",
   "name": "python3"
  },
  "language_info": {
   "codemirror_mode": {
    "name": "ipython",
    "version": 3
   },
   "file_extension": ".py",
   "mimetype": "text/x-python",
   "name": "python",
   "nbconvert_exporter": "python",
   "pygments_lexer": "ipython3",
   "version": "3.9.12"
  }
 },
 "nbformat": 4,
 "nbformat_minor": 2
}
