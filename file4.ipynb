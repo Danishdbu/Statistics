{
 "cells": [
  {
   "cell_type": "code",
   "execution_count": 1,
   "metadata": {},
   "outputs": [],
   "source": [
    "import pandas as pd\n",
    "import numpy as np\n",
    "import seaborn as sns\n",
    "import matplotlib.pyplot as plt\n"
   ]
  },
  {
   "cell_type": "code",
   "execution_count": 2,
   "metadata": {},
   "outputs": [],
   "source": [
    "import random"
   ]
  },
  {
   "cell_type": "code",
   "execution_count": 3,
   "metadata": {},
   "outputs": [],
   "source": [
    "L = []\n",
    "for i in range(10000):\n",
    "    L.append(random.randint(1,6))\n",
    "\n"
   ]
  },
  {
   "cell_type": "code",
   "execution_count": 4,
   "metadata": {},
   "outputs": [
    {
     "data": {
      "text/plain": [
       "10000"
      ]
     },
     "execution_count": 4,
     "metadata": {},
     "output_type": "execute_result"
    }
   ],
   "source": [
    "len(L)"
   ]
  },
  {
   "cell_type": "code",
   "execution_count": 5,
   "metadata": {},
   "outputs": [
    {
     "data": {
      "text/plain": [
       "[2, 4, 4, 3, 3]"
      ]
     },
     "execution_count": 5,
     "metadata": {},
     "output_type": "execute_result"
    }
   ],
   "source": [
    "L[:5]"
   ]
  },
  {
   "cell_type": "code",
   "execution_count": 6,
   "metadata": {},
   "outputs": [],
   "source": [
    "# pmf"
   ]
  },
  {
   "cell_type": "code",
   "execution_count": 7,
   "metadata": {},
   "outputs": [
    {
     "data": {
      "text/plain": [
       "1    0.1664\n",
       "2    0.1686\n",
       "3    0.1657\n",
       "4    0.1682\n",
       "5    0.1649\n",
       "6    0.1662\n",
       "dtype: float64"
      ]
     },
     "execution_count": 7,
     "metadata": {},
     "output_type": "execute_result"
    }
   ],
   "source": [
    "s = (pd.Series(L).value_counts()/pd.Series(L).value_counts().sum()).sort_index()\n",
    "s"
   ]
  },
  {
   "cell_type": "code",
   "execution_count": 8,
   "metadata": {},
   "outputs": [
    {
     "data": {
      "text/plain": [
       "<AxesSubplot:>"
      ]
     },
     "execution_count": 8,
     "metadata": {},
     "output_type": "execute_result"
    },
    {
     "data": {
      "image/png": "[encoded data removed]",
      "text/plain": [
       "<Figure size 432x288 with 1 Axes>"
      ]
     },
     "metadata": {
      "needs_background": "light"
     },
     "output_type": "display_data"
    }
   ],
   "source": [
    "s.plot(kind='bar')"
   ]
  },
  {
   "cell_type": "code",
   "execution_count": 9,
   "metadata": {},
   "outputs": [],
   "source": [
    "# for two dice\n",
    "L = []\n",
    "for i in range(10000):\n",
    "  a = random.randint(1,6)\n",
    "  b = random.randint(1,6)\n",
    "\n",
    "  L.append(a + b)"
   ]
  },
  {
   "cell_type": "code",
   "execution_count": 10,
   "metadata": {},
   "outputs": [
    {
     "data": {
      "text/plain": [
       "10000"
      ]
     },
     "execution_count": 10,
     "metadata": {},
     "output_type": "execute_result"
    }
   ],
   "source": [
    "len(L)"
   ]
  },
  {
   "cell_type": "code",
   "execution_count": 11,
   "metadata": {},
   "outputs": [
    {
     "data": {
      "text/plain": [
       "[6, 9, 12, 4, 7]"
      ]
     },
     "execution_count": 11,
     "metadata": {},
     "output_type": "execute_result"
    }
   ],
   "source": [
    "L[:5]"
   ]
  },
  {
   "cell_type": "code",
   "execution_count": 12,
   "metadata": {},
   "outputs": [],
   "source": [
    "s1 = (pd.Series(L).value_counts()/pd.Series(L).value_counts().sum()).sort_index()\n"
   ]
  },
  {
   "cell_type": "code",
   "execution_count": 13,
   "metadata": {},
   "outputs": [
    {
     "data": {
      "text/plain": [
       "<AxesSubplot:>"
      ]
     },
     "execution_count": 13,
     "metadata": {},
     "output_type": "execute_result"
    },
    {
     "data": {
      "image/png": "[encoded data removed]",
      "text/plain": [
       "<Figure size 432x288 with 1 Axes>"
      ]
     },
     "metadata": {
      "needs_background": "light"
     },
     "output_type": "display_data"
    }
   ],
   "source": [
    "s1.plot(kind='bar')"
   ]
  },
  {
   "cell_type": "code",
   "execution_count": 14,
   "metadata": {},
   "outputs": [],
   "source": [
    "# Cumulative Distribution Function(CDF) of PMF"
   ]
  },
  {
   "cell_type": "code",
   "execution_count": 15,
   "metadata": {},
   "outputs": [
    {
     "data": {
      "text/plain": [
       "2     0.0279\n",
       "3     0.0798\n",
       "4     0.1589\n",
       "5     0.2691\n",
       "6     0.4091\n",
       "7     0.5747\n",
       "8     0.7205\n",
       "9     0.8308\n",
       "10    0.9158\n",
       "11    0.9724\n",
       "12    1.0000\n",
       "dtype: float64"
      ]
     },
     "execution_count": 15,
     "metadata": {},
     "output_type": "execute_result"
    }
   ],
   "source": [
    "import numpy as np\n",
    "np.cumsum(s1)"
   ]
  },
  {
   "cell_type": "code",
   "execution_count": 16,
   "metadata": {},
   "outputs": [
    {
     "data": {
      "text/plain": [
       "<AxesSubplot:>"
      ]
     },
     "execution_count": 16,
     "metadata": {},
     "output_type": "execute_result"
    },
    {
     "data": {
      "image/png": "[encoded data removed]",
      "text/plain": [
       "<Figure size 432x288 with 1 Axes>"
      ]
     },
     "metadata": {
      "needs_background": "light"
     },
     "output_type": "display_data"
    }
   ],
   "source": [
    "np.cumsum(s1).plot(kind='bar')"
   ]
  },
  {
   "cell_type": "code",
   "execution_count": 17,
   "metadata": {},
   "outputs": [],
   "source": [
    "# Parametric Density Estimation"
   ]
  },
  {
   "cell_type": "code",
   "execution_count": 18,
   "metadata": {},
   "outputs": [],
   "source": [
    "from numpy.random import normal\n",
    "sample = normal(loc=50,scale=5,size=1000)"
   ]
  },
  {
   "cell_type": "code",
   "execution_count": 19,
   "metadata": {},
   "outputs": [
    {
     "data": {
      "text/plain": [
       "array([53.177351  , 52.64593453, 36.07172888, 50.18435476, 50.21731661,\n",
       "       52.42084227, 43.83242165, 55.41727314, 37.52004044, 45.63841756,\n",
       "       47.54341139, 51.69644102, 48.45486665, 53.14859602, 46.86024269,\n",
       "       48.78234837, 52.86379515, 53.87886905, 50.96693117, 58.46469444,\n",
       "       47.16258314, 54.16145872, 46.08046279, 43.01854353, 45.024953  ,\n",
       "       48.74778604, 48.80869333, 45.74199827, 46.78966367, 46.05829899,\n",
       "       45.72063759, 50.23469426, 55.72607846, 52.46446398, 47.5281877 ,\n",
       "       58.90910929, 38.66279244, 47.13338128, 51.29196521, 54.96783508,\n",
       "       48.13970811, 45.99514441, 55.74444888, 45.43704565, 51.07722322,\n",
       "       45.03046854, 41.81826834, 58.18727856, 54.41570771, 52.580657  ,\n",
       "       45.55973302, 59.47837065, 48.4837589 , 54.23653795, 50.69568475,\n",
       "       59.67573075, 53.14843683, 54.55308407, 45.74627812, 58.49907364,\n",
       "       52.88917843, 53.21854715, 44.64922013, 46.80076577, 47.64532012,\n",
       "       54.65739066, 60.82613183, 50.75151198, 44.70485483, 52.78715411,\n",
       "       52.49609845, 57.39808069, 45.67492836, 49.54777628, 51.95729079,\n",
       "       46.03401505, 50.83787614, 46.29870131, 46.22633604, 49.16649467,\n",
       "       45.21827458, 54.02446906, 56.65294448, 49.1571946 , 52.93091165,\n",
       "       48.55594257, 43.14194629, 50.02920353, 46.4617715 , 55.43370849,\n",
       "       39.2658212 , 50.13901475, 41.00802743, 56.23004024, 58.61628645,\n",
       "       52.75958132, 51.70815315, 51.09997391, 51.87471085, 47.54827809,\n",
       "       52.1236909 , 52.76165524, 54.24480553, 47.21371152, 49.47751695,\n",
       "       53.9297878 , 52.11724397, 50.07942684, 53.4521011 , 56.25350714,\n",
       "       51.66847894, 54.23651017, 46.94866616, 51.94669797, 54.41730207,\n",
       "       51.2670146 , 40.92462689, 40.74192899, 46.51454144, 47.99451913,\n",
       "       46.55523139, 45.42114014, 34.27752609, 48.25391462, 38.4009626 ,\n",
       "       49.16384781, 49.97456807, 43.99397514, 51.13380876, 53.06663236,\n",
       "       61.55787421, 48.28386681, 55.83134708, 48.03101166, 53.87542128,\n",
       "       53.87355011, 52.28509533, 53.89903596, 42.15924356, 49.22266281,\n",
       "       51.10985193, 44.9864405 , 48.59202043, 58.71956831, 36.66523734,\n",
       "       48.95635079, 54.68422826, 48.56534942, 53.99622068, 52.56732995,\n",
       "       44.22288279, 47.61868741, 47.10697985, 45.13526876, 47.61558405,\n",
       "       55.97539752, 54.95137205, 52.95010703, 50.73588277, 45.82550899,\n",
       "       54.77329033, 48.43418959, 50.90054638, 45.36026614, 55.63458335,\n",
       "       54.0603018 , 51.2412967 , 42.90485341, 43.0337848 , 44.99462723,\n",
       "       46.38456835, 49.30608868, 43.79431395, 51.17130636, 56.50771948,\n",
       "       47.22763003, 48.1091716 , 48.00079171, 44.36505987, 57.09444599,\n",
       "       59.85060737, 55.14007944, 50.81657246, 48.16943136, 46.97597254,\n",
       "       54.39493835, 39.98002826, 53.75293202, 47.64913128, 59.54355339,\n",
       "       44.36971265, 52.10978809, 55.06006899, 42.65209947, 57.61955314,\n",
       "       42.71192512, 49.45454242, 48.71199639, 51.36564022, 61.56612426,\n",
       "       45.0173586 , 51.34970706, 44.52477952, 43.24215944, 57.68440169,\n",
       "       50.60573688, 47.39882283, 49.01553207, 49.1815859 , 43.31772745,\n",
       "       53.03693145, 39.74541796, 60.26522887, 48.69158709, 45.29840582,\n",
       "       52.62858749, 49.2609829 , 44.32924553, 55.77689501, 40.52683831,\n",
       "       55.99903381, 53.86888725, 51.57998574, 53.64252562, 44.09182932,\n",
       "       47.40581385, 43.35675375, 48.47180213, 48.09019875, 52.98547406,\n",
       "       41.75101294, 45.08330362, 53.1407733 , 47.96786602, 46.01547349,\n",
       "       50.69676356, 52.55588353, 44.79462947, 47.51982802, 53.12045769,\n",
       "       58.85937299, 46.9019842 , 50.65498255, 50.5041382 , 47.11623221,\n",
       "       55.23361249, 54.55699473, 47.54904381, 49.20743934, 56.59025149,\n",
       "       50.99683114, 49.67949684, 47.48721544, 60.83934122, 53.40593347,\n",
       "       52.82494726, 50.35059304, 54.14649545, 45.72155395, 43.61353795,\n",
       "       40.08316637, 40.24647984, 55.7619842 , 49.40097665, 52.97754052,\n",
       "       39.41547733, 48.77631061, 52.37529449, 58.73396898, 46.86288113,\n",
       "       40.32487658, 45.79954547, 51.72722638, 46.06925857, 43.57423766,\n",
       "       49.4516751 , 50.05311165, 46.20863003, 46.01577567, 55.44324833,\n",
       "       46.56885604, 42.31560193, 49.47375687, 60.5812797 , 53.62686179,\n",
       "       47.7896896 , 51.08407206, 41.98249742, 54.66110857, 54.90671486,\n",
       "       48.87197498, 53.35642294, 53.73085332, 49.16564741, 50.65428533,\n",
       "       48.78575052, 53.68936389, 58.24696635, 45.74380067, 53.68708209,\n",
       "       52.58277059, 52.64464037, 53.05115342, 43.47514824, 43.85198236,\n",
       "       55.0122074 , 50.42964112, 52.93048469, 50.47669627, 56.23922864,\n",
       "       37.95068516, 47.99600108, 52.00732186, 45.62004527, 45.4533638 ,\n",
       "       58.32141354, 44.92728693, 46.30765833, 49.98054193, 52.0056499 ,\n",
       "       46.80415978, 57.10538303, 56.3902831 , 46.06675985, 46.87657842,\n",
       "       43.5802548 , 57.86613457, 44.12938693, 57.54427097, 49.70428165,\n",
       "       40.19168426, 63.07196112, 48.25469415, 44.37025744, 59.63947198,\n",
       "       45.40018879, 46.48548939, 45.13541839, 42.76521832, 49.85412389,\n",
       "       52.49074866, 54.92630377, 45.0174145 , 63.26624224, 45.43645497,\n",
       "       44.55442333, 53.67870124, 50.56131202, 44.67478416, 48.59694379,\n",
       "       56.25759757, 49.96397965, 49.09901403, 56.98685643, 51.28138798,\n",
       "       45.48853428, 55.82487741, 56.38267008, 50.875292  , 55.19805385,\n",
       "       59.61671498, 48.24626974, 59.35019478, 46.38908003, 41.49147114,\n",
       "       50.00840559, 56.67826912, 48.62533367, 40.39649132, 44.7232541 ,\n",
       "       54.3707436 , 58.87833566, 47.76875804, 56.35864397, 46.24778169,\n",
       "       48.13138357, 53.88527382, 54.81553623, 51.6999103 , 42.28168167,\n",
       "       48.90827384, 44.19013678, 58.39688351, 40.41769429, 45.27263583,\n",
       "       53.63464167, 40.12685089, 44.13253988, 46.94671077, 56.34400382,\n",
       "       49.98313323, 58.94215046, 57.52618345, 50.41788078, 48.42389026,\n",
       "       57.74082671, 51.93996928, 44.05344213, 46.81958743, 48.16036317,\n",
       "       54.94141713, 50.10336114, 46.50508402, 42.04072841, 49.11620889,\n",
       "       50.5336647 , 50.82043708, 45.65701647, 45.31072048, 46.14702963,\n",
       "       53.26714754, 50.90241905, 44.85824699, 51.06552993, 56.72359271,\n",
       "       46.44754199, 54.80130179, 59.23080426, 52.22842504, 42.89660076,\n",
       "       64.69310795, 47.94687953, 49.3939218 , 48.02428614, 45.47035767,\n",
       "       48.20943182, 47.35644022, 50.86639053, 49.40152199, 49.27013357,\n",
       "       47.96277396, 52.0030954 , 63.30485346, 50.1575564 , 56.54773216,\n",
       "       52.35026075, 40.8309202 , 50.81118322, 42.46557006, 44.53645833,\n",
       "       49.54808016, 38.35128342, 49.21931882, 49.95073532, 54.77626157,\n",
       "       49.82679088, 59.36172114, 51.7842014 , 51.15490874, 48.50094217,\n",
       "       40.72012693, 50.64223452, 51.10768692, 43.47607845, 52.42757678,\n",
       "       47.82268993, 53.06143251, 54.93649296, 50.18395959, 54.22409114,\n",
       "       59.54342646, 53.11583261, 52.8176648 , 55.51864148, 58.75600093,\n",
       "       55.1405126 , 51.40411481, 50.70094769, 46.70527815, 44.49465112,\n",
       "       49.63489236, 46.15404168, 48.56466035, 49.991566  , 53.40471533,\n",
       "       46.18018437, 45.06723267, 44.5143672 , 51.15910856, 43.78187102,\n",
       "       47.35791059, 45.9840667 , 53.61352157, 53.5311049 , 48.66290983,\n",
       "       48.32059869, 47.99748718, 43.36816418, 47.82232849, 51.48274799,\n",
       "       52.70134071, 50.30145517, 43.91238566, 39.91866827, 45.68273404,\n",
       "       52.84119097, 45.60820333, 49.74087339, 50.98120101, 53.07449488,\n",
       "       47.5158197 , 57.49975849, 50.23734395, 56.80499001, 56.45508126,\n",
       "       45.68040004, 56.21513365, 43.65774126, 50.96224521, 50.10787407,\n",
       "       59.96215316, 45.57902244, 46.60426693, 45.21134279, 49.32791973,\n",
       "       47.00900874, 40.53992073, 48.77045636, 42.6003218 , 60.33726838,\n",
       "       48.5831194 , 47.16973191, 51.60402299, 40.19271049, 47.83003469,\n",
       "       48.24924699, 46.24817654, 49.77297513, 46.44623829, 56.63850109,\n",
       "       46.97535543, 51.70058848, 52.59864034, 49.68546302, 54.99962687,\n",
       "       51.07935026, 49.72720254, 55.42915462, 44.53131691, 50.24608723,\n",
       "       44.17149198, 62.36111107, 52.85270815, 52.59053391, 44.75284736,\n",
       "       54.81607944, 48.69444383, 50.03126372, 43.89610595, 57.39249072,\n",
       "       52.69274082, 44.69188591, 37.15274895, 42.64988603, 46.90241311,\n",
       "       54.40147197, 58.77173003, 54.52204527, 51.12942726, 51.60855568,\n",
       "       45.8860043 , 54.86750173, 51.67881115, 48.30085772, 49.40799313,\n",
       "       55.17110254, 55.58378478, 46.03580482, 50.35377771, 50.51067322,\n",
       "       54.82042942, 59.76891101, 49.66882871, 53.74366529, 55.63125731,\n",
       "       43.0977921 , 47.51952839, 50.96840664, 43.59932291, 53.65125586,\n",
       "       52.50078365, 45.90055559, 43.41316309, 52.80689133, 60.4033031 ,\n",
       "       47.33362187, 55.58884653, 49.8213144 , 57.13437404, 46.30443817,\n",
       "       39.01633316, 51.34691355, 57.14347526, 44.68782581, 54.81228372,\n",
       "       40.83868604, 51.22546997, 47.92411366, 51.75280412, 50.88158027,\n",
       "       54.05779776, 56.96154567, 52.54357068, 41.05884085, 45.56311342,\n",
       "       49.69631149, 54.87174945, 53.55221631, 45.80767577, 50.93963467,\n",
       "       57.02853383, 47.94601506, 45.93236552, 53.96898675, 54.71798448,\n",
       "       48.68339636, 47.64595797, 51.06166224, 45.63796989, 49.78663748,\n",
       "       54.36561076, 44.21718122, 54.82588571, 47.62546267, 53.53516108,\n",
       "       50.49933353, 54.31694506, 53.75234136, 49.14758843, 54.17078248,\n",
       "       56.64767983, 51.18294732, 48.76109504, 49.11263016, 47.62146733,\n",
       "       57.59663826, 44.72955862, 57.38580711, 48.81269622, 46.10582743,\n",
       "       47.65571293, 50.09926332, 45.40974286, 47.91028218, 48.13848482,\n",
       "       56.11680301, 44.41255407, 55.98019508, 37.1480742 , 38.44285104,\n",
       "       45.14148336, 42.56784303, 46.20959227, 54.8514556 , 50.73882715,\n",
       "       51.20304827, 49.75781132, 55.32776795, 64.65340688, 48.81788806,\n",
       "       59.48664055, 40.40307218, 50.15412345, 54.35425823, 57.27133842,\n",
       "       57.02825254, 39.32020837, 45.1750482 , 43.10589018, 46.42223325,\n",
       "       48.9320523 , 49.48988553, 46.6841788 , 56.76762535, 53.42090297,\n",
       "       51.40857057, 50.83962834, 50.93682887, 50.0578022 , 49.94146065,\n",
       "       49.91569738, 53.04655924, 51.86415458, 47.03492677, 48.90709891,\n",
       "       51.57177928, 50.47316047, 52.1426944 , 56.71784389, 42.5750499 ,\n",
       "       51.58175386, 52.05044577, 48.48705514, 48.10681383, 55.96554307,\n",
       "       46.5657059 , 48.21893678, 42.16180398, 48.65546335, 53.68348054,\n",
       "       52.26738289, 42.97057203, 51.08627739, 45.14110505, 45.15271667,\n",
       "       58.24330459, 55.10337392, 55.35116867, 46.91073122, 59.39150653,\n",
       "       53.59290611, 51.72520261, 45.46976215, 50.7617414 , 53.8870358 ,\n",
       "       55.58701418, 52.90887336, 53.07662981, 41.26446015, 63.41104541,\n",
       "       51.88407318, 53.84236573, 58.07367913, 50.51719928, 56.15572234,\n",
       "       53.85484513, 56.01334819, 56.34834992, 54.6375974 , 46.61636269,\n",
       "       51.59308257, 45.25051056, 56.89906178, 52.2052574 , 54.63307508,\n",
       "       51.17284247, 51.86880103, 49.84560115, 51.47164471, 46.51503148,\n",
       "       43.29243017, 52.81558527, 48.70059674, 40.4783914 , 47.45635582,\n",
       "       47.87869781, 46.84170003, 56.1684283 , 54.58829282, 54.9312572 ,\n",
       "       52.68381734, 48.63568949, 53.36210629, 62.01975869, 46.74961631,\n",
       "       50.59368732, 51.30244313, 44.20608519, 44.44378485, 45.97894283,\n",
       "       45.72387529, 47.33818499, 52.49703387, 48.40794305, 46.54628799,\n",
       "       60.59679839, 54.15420236, 42.43184772, 53.84373218, 46.52372703,\n",
       "       48.46210967, 42.11162861, 44.11293521, 50.35785894, 44.07837045,\n",
       "       52.5964233 , 49.52482056, 50.4274709 , 61.4633749 , 53.18582296,\n",
       "       47.49891349, 48.63532667, 56.54476292, 58.33790347, 47.6933151 ,\n",
       "       50.78747405, 51.04844076, 55.20651318, 47.83075693, 57.47588048,\n",
       "       56.98271459, 45.52237341, 57.23129416, 55.37314565, 54.82336212,\n",
       "       40.76500355, 46.58133765, 45.65491171, 47.44465973, 58.26820971,\n",
       "       56.42224467, 46.79877872, 50.41587941, 54.72863054, 51.19508884,\n",
       "       48.45860733, 52.10062011, 42.40496228, 58.30043702, 55.09321847,\n",
       "       38.15080045, 51.34822814, 50.36129983, 41.97356292, 50.79119653,\n",
       "       54.6364682 , 52.19817828, 56.72458958, 49.84021066, 55.84743761,\n",
       "       43.90798754, 50.74823736, 58.95365422, 44.22881919, 54.96600224,\n",
       "       51.47024994, 50.27159467, 38.46688007, 46.17834798, 52.67364597,\n",
       "       48.29779559, 44.62462521, 47.11947129, 45.50134251, 56.45715829,\n",
       "       63.2041522 , 51.18990228, 51.34654125, 48.58959104, 46.55859731,\n",
       "       41.71113608, 54.41195102, 51.91813811, 49.1409622 , 47.05544905,\n",
       "       47.15341434, 42.95923013, 49.83183064, 45.59639962, 47.05796659,\n",
       "       44.93472012, 52.74628497, 46.72974099, 50.8225841 , 49.61689485,\n",
       "       53.13270754, 44.67034033, 48.55249036, 54.73968835, 42.64959544,\n",
       "       42.19899284, 52.04340387, 42.85089213, 50.88948768, 48.76066051,\n",
       "       45.77891856, 51.16294919, 43.64393187, 52.95610044, 43.46065456,\n",
       "       42.64319952, 50.22619221, 53.89904198, 52.01097786, 49.4697463 ,\n",
       "       44.34298403, 52.66077984, 54.39001129, 56.88684503, 48.08430903,\n",
       "       46.79198328, 57.80438664, 45.97817245, 43.25512444, 55.37106074,\n",
       "       52.91591588, 46.78424234, 45.38273602, 50.09104839, 40.39077885,\n",
       "       47.43228838, 42.36400642, 50.07572995, 54.67227538, 52.46215602,\n",
       "       56.81286074, 49.79072912, 54.09735449, 47.15040723, 65.97428909,\n",
       "       45.95177577, 54.96430115, 50.25811897, 53.8627578 , 51.06856138,\n",
       "       47.49478236, 58.23763853, 50.79022201, 55.48650604, 46.27731419,\n",
       "       58.8305188 , 50.94302749, 54.63262812, 43.73864362, 52.07119158,\n",
       "       51.24171756, 49.78549835, 48.11442537, 57.10082262, 48.73414399,\n",
       "       52.6603228 , 48.32711189, 54.9582138 , 47.04834931, 49.45794292,\n",
       "       49.20318356, 47.976467  , 47.05644745, 48.90226915, 47.57875173,\n",
       "       53.39423499, 58.42312882, 52.2162372 , 50.78939238, 58.31350005,\n",
       "       47.56109755, 52.59227965, 50.44168979, 56.93090704, 48.7978655 ,\n",
       "       49.33857909, 59.97810899, 52.86471914, 58.72629818, 51.59540521,\n",
       "       43.91147614, 49.7269184 , 46.25959845, 53.83804649, 47.44971484,\n",
       "       53.24999086, 52.72814813, 50.02948212, 45.34567357, 43.12744748,\n",
       "       52.63092452, 46.83165977, 47.38002046, 45.56912657, 49.59094355,\n",
       "       52.69789004, 46.22466657, 52.74140759, 52.75399753, 46.38068502,\n",
       "       45.45624628, 50.59369007, 48.27424304, 54.17122358, 48.49571644,\n",
       "       42.40429266, 43.57084538, 43.80324859, 50.53988512, 54.38960198,\n",
       "       58.01478197, 46.45119197, 48.08462377, 50.84220296, 49.39690699,\n",
       "       49.77173279, 52.89331856, 57.16049482, 47.38365289, 48.78986498,\n",
       "       41.37353307, 49.23866511, 46.02066875, 54.01336016, 55.42770143,\n",
       "       51.72316264, 47.42827075, 41.30359422, 49.05668491, 51.15096309,\n",
       "       49.54467489, 53.14592663, 48.3203233 , 41.94327158, 40.871099  ])"
      ]
     },
     "execution_count": 19,
     "metadata": {},
     "output_type": "execute_result"
    }
   ],
   "source": [
    "sample"
   ]
  },
  {
   "cell_type": "code",
   "execution_count": 20,
   "metadata": {},
   "outputs": [
    {
     "data": {
      "text/plain": [
       "(array([  5.,  28.,  70., 182., 225., 228., 157.,  79.,  18.,   8.]),\n",
       " array([34.27752609, 37.44720239, 40.61687869, 43.78655499, 46.95623129,\n",
       "        50.12590759, 53.29558389, 56.46526019, 59.63493649, 62.80461279,\n",
       "        65.97428909]),\n",
       " <BarContainer object of 10 artists>)"
      ]
     },
     "execution_count": 20,
     "metadata": {},
     "output_type": "execute_result"
    },
    {
     "data": {
      "image/png": "[encoded data removed]",
      "text/plain": [
       "<Figure size 432x288 with 1 Axes>"
      ]
     },
     "metadata": {
      "needs_background": "light"
     },
     "output_type": "display_data"
    }
   ],
   "source": [
    "# plot histogram to understand the distribution of data\n",
    "plt.hist(sample,bins=10)"
   ]
  },
  {
   "cell_type": "code",
   "execution_count": 21,
   "metadata": {},
   "outputs": [],
   "source": [
    "# calculate sample mean and sample std dev\n",
    "sample_mean = sample.mean()\n",
    "sample_std = sample.std()"
   ]
  },
  {
   "cell_type": "code",
   "execution_count": 22,
   "metadata": {},
   "outputs": [],
   "source": [
    "# fit the distribution with the above parameters\n",
    "from scipy.stats import norm \n",
    "dist = norm(sample_mean,sample_std)"
   ]
  },
  {
   "cell_type": "code",
   "execution_count": 23,
   "metadata": {},
   "outputs": [],
   "source": [
    "values = np.linspace(sample.min(),sample.max(),100)"
   ]
  },
  {
   "cell_type": "code",
   "execution_count": 24,
   "metadata": {},
   "outputs": [
    {
     "data": {
      "text/plain": [
       "65.97428909448449"
      ]
     },
     "execution_count": 24,
     "metadata": {},
     "output_type": "execute_result"
    }
   ],
   "source": [
    "sample.max()"
   ]
  },
  {
   "cell_type": "code",
   "execution_count": 25,
   "metadata": {},
   "outputs": [],
   "source": [
    "probabilities = [dist.pdf(value) for value in values]"
   ]
  },
  {
   "cell_type": "code",
   "execution_count": 26,
   "metadata": {},
   "outputs": [
    {
     "data": {
      "text/plain": [
       "[<matplotlib.lines.Line2D at 0x1b7dfb8fd60>]"
      ]
     },
     "execution_count": 26,
     "metadata": {},
     "output_type": "execute_result"
    },
    {
     "data": {
      "image/png": "[encoded data removed]",
      "text/plain": [
       "<Figure size 432x288 with 1 Axes>"
      ]
     },
     "metadata": {
      "needs_background": "light"
     },
     "output_type": "display_data"
    }
   ],
   "source": [
    "# plot the histogram and pdf\n",
    "plt.hist(sample,bins=10,density=True)\n",
    "plt.plot(values,probabilities)"
   ]
  },
  {
   "cell_type": "code",
   "execution_count": 27,
   "metadata": {},
   "outputs": [
    {
     "data": {
      "text/plain": [
       "<seaborn.axisgrid.FacetGrid at 0x1b7dfae3520>"
      ]
     },
     "execution_count": 27,
     "metadata": {},
     "output_type": "execute_result"
    },
    {
     "data": {
      "image/png": "[encoded data removed]",
      "text/plain": [
       "<Figure size 360x360 with 1 Axes>"
      ]
     },
     "metadata": {
      "needs_background": "light"
     },
     "output_type": "display_data"
    }
   ],
   "source": [
    "sns.displot(sample)"
   ]
  },
  {
   "cell_type": "code",
   "execution_count": 28,
   "metadata": {},
   "outputs": [],
   "source": [
    "#  KDE"
   ]
  },
  {
   "cell_type": "code",
   "execution_count": 29,
   "metadata": {},
   "outputs": [],
   "source": [
    "sample1 = normal(loc=20,scale=5,size=300)\n",
    "sample2 = normal(loc=40,scale=5,size=700)\n",
    "sample = np.hstack((sample1,sample2))\n",
    "\n"
   ]
  },
  {
   "cell_type": "code",
   "execution_count": 30,
   "metadata": {},
   "outputs": [
    {
     "data": {
      "text/plain": [
       "array([22.75184494, 15.68658483, 20.80466475, 24.50709292, 26.04130351,\n",
       "       31.63607137, 23.56809778, 16.22907987, 18.25160572, 16.87074951,\n",
       "       25.50999049, 18.16717155, 12.77034689, 21.56391533, 16.90258308,\n",
       "       30.34699592, 10.71220931, 18.34276869, 22.49101355, 18.71733913,\n",
       "       12.12397522, 23.59751007,  9.44974099, 25.59096381, 25.79741039,\n",
       "       23.30617008, 26.20350249, 23.96662071, 17.69385761, 24.44596432,\n",
       "       18.96709415, 16.89206025,  8.55731628, 27.74946907, 12.46679909,\n",
       "       18.94725268, 28.50539187, 18.36222763, 14.83001594,  2.87565192,\n",
       "       22.17205279, 10.90470489, 15.41366843, 22.17440336, 20.89614353,\n",
       "       23.7882931 , 25.96709665, 28.02160653, 16.88269474, 20.69453291,\n",
       "       20.36136314, 12.78404625, 21.85088714, 18.33377152, 15.63853374,\n",
       "       16.73745417, 29.67538162, 18.30654824, 20.3972994 , 15.55669861,\n",
       "       26.43108421, 15.87841882, 16.4022045 , 21.18964781, 20.60517608,\n",
       "       27.78890541, 34.71670762, 26.82591639, 18.71885508, 25.64956393,\n",
       "       24.75125867, 16.95229239, 21.43642242, 14.76926859, 11.70086214,\n",
       "       19.89695022, 15.72693521, 17.72635214, 19.93632658, 23.88433673,\n",
       "       16.53469921, 30.9659445 , 20.04505184, 13.88442949, 21.93750712,\n",
       "       24.22700179, 24.61669059, 12.79484721, 29.13969267, 19.82262326,\n",
       "       21.43359812, 15.11690241, 15.8609412 , 23.94187487, 16.64803041,\n",
       "       19.93355428, 28.95606909, 12.84247282, 21.47484505, 21.63221414,\n",
       "       18.00011059, 14.53646325, 21.20304497, 19.14842237, 13.59274006,\n",
       "       26.9707429 , 15.96014487, 13.05230768, 25.22647998, 27.28029533,\n",
       "       22.16616429, 20.30947385, 19.96695647, 26.91502956, 11.82157848,\n",
       "       19.65338473, 20.80525141, 21.88448854, 23.68643384, 19.97856343,\n",
       "       23.29818863, 25.4683186 , 21.28817759, 23.66139822, 21.07029815,\n",
       "       21.64129525, 16.93053323, 14.54716588, 22.68453463, 26.14725774,\n",
       "       13.98255985, 21.55157192, 19.11016561, 18.1843037 , 18.82974231,\n",
       "       20.63358477, 17.46252168, 14.74842063, 19.53614114, 21.29774651,\n",
       "       14.62748319, 12.54472238, 19.14106049, 15.38983876, 33.42443808,\n",
       "       26.84452341, 24.47568465, 10.72511285, 16.12634406, 14.73957185,\n",
       "       13.2611961 , 19.32341324, 20.91193239, 24.74302114, 26.11673397,\n",
       "       10.67132572, 18.17629428, 18.19030921, 16.70799068, 25.95566325,\n",
       "       19.98071303, 21.04884016, 19.35466175, 23.19490953, 11.21088411,\n",
       "       16.85565211, 12.44490604, 21.07520731, 15.41791339, 16.34466626,\n",
       "       30.80780666, 13.58087375, 27.95795474, 16.39329923, 19.68366892,\n",
       "       20.17640674, 15.45491024, 20.98584325, 18.99149881, 26.8727925 ,\n",
       "       21.73907548, 16.74173165, 17.76091612, 18.87897575, 25.87186479,\n",
       "       19.04517861, 16.98997373, 19.0012763 , 21.89354886, 23.78329234,\n",
       "       23.94516255, 25.6522029 , 20.35271209, 18.35142805, 26.67050866,\n",
       "       18.40281746, 10.94891248, 19.40493202, 25.83103313, 14.85645413,\n",
       "       21.3089756 , 24.39262648, 14.69338545, 22.9874471 , 19.25236377,\n",
       "       18.58315334, 17.53621922, 19.56934367, 19.90203134, 19.16748719,\n",
       "       23.03108889, 23.18683261, 18.40709658, 15.6444729 , 22.36769316,\n",
       "       17.21069667, 19.78142253, 21.92613233, 14.84011435, 14.30161454,\n",
       "       18.30559995, 24.02944834, 17.41397757, 15.69130861, 17.0021292 ,\n",
       "       17.46978166, 19.02320067, 20.27837962, 21.4221735 , 21.15927665,\n",
       "       19.34070632, 25.72130599, 19.85684638, 19.19480722, 26.97199403,\n",
       "       20.76092472, 15.3141159 , 15.63073879, 27.34438568, 20.70303726,\n",
       "       21.0216942 , 19.36868223, 20.93582765, 15.17845447, 17.92528173,\n",
       "       27.02585006, 25.80741393, 25.66291714, 21.67781593, 18.18736253,\n",
       "       23.66872139, 24.93075033, 15.6996399 , 18.23154625, 13.44405183,\n",
       "       14.04591657, 13.91064872, 23.67519319, 23.98730236, 27.08438712,\n",
       "       16.41211445, 15.06111223, 13.2300496 , 23.58326066, 22.14047471,\n",
       "       20.35708186, 18.20846156, 22.02736483, 18.63390374, 25.07993037,\n",
       "       18.28104048, 17.49894874, 16.85983583, 19.97475118, 13.46215356,\n",
       "       21.4556955 , 24.2013371 , 21.46195229, 15.04439056, 20.07794279,\n",
       "       17.46723677, 14.77187376, 16.61537151, 23.06536125, 19.14567368,\n",
       "       16.71378179, 20.48997712, 12.56290337, 15.26184532, 19.47323212,\n",
       "       11.31946551, 15.97677134, 15.25187981, 25.5954391 , 19.31737014,\n",
       "       15.72061353, 16.4178866 , 24.80417738, 22.29916649,  9.87565699,\n",
       "       41.95827282, 39.62379538, 34.16507717, 44.75804001, 37.13559372,\n",
       "       46.41000043, 41.83008476, 40.34679341, 34.80240712, 37.94654828,\n",
       "       39.66884779, 34.85799277, 37.57781547, 43.67599261, 32.59057766,\n",
       "       43.55220201, 44.66125978, 37.4028767 , 40.88524102, 36.44951974,\n",
       "       47.85203936, 37.52053788, 46.14960081, 47.55945898, 42.00095478,\n",
       "       41.49058827, 40.32404285, 40.87488691, 40.44399879, 48.55582637,\n",
       "       33.81661099, 34.88630797, 47.07207426, 33.87406374, 49.71819127,\n",
       "       38.96313979, 34.00738817, 39.22275959, 34.88052046, 40.49606167,\n",
       "       37.40801571, 45.86828113, 47.10441243, 32.62556602, 43.44803789,\n",
       "       38.27655819, 36.99603392, 47.38236709, 45.04945482, 43.78856388,\n",
       "       30.02023984, 44.86148216, 42.76346322, 35.60254469, 35.73662059,\n",
       "       37.62161564, 53.39380828, 29.75729818, 31.82909804, 46.04715463,\n",
       "       39.42052924, 39.07821853, 41.5257978 , 40.72872743, 40.00059028,\n",
       "       37.48585089, 38.42688254, 45.02144209, 46.02769333, 39.52504208,\n",
       "       34.13301916, 38.06247695, 41.82602928, 38.63102616, 36.28047542,\n",
       "       42.55829126, 36.66504311, 43.10393506, 34.52457199, 37.13103315,\n",
       "       34.49301364, 42.434102  , 39.65781632, 40.61033307, 50.22733049,\n",
       "       34.70947007, 45.86020601, 45.33876814, 43.04989604, 40.56454466,\n",
       "       33.68738832, 38.60322338, 25.59092634, 37.2354158 , 38.6062251 ,\n",
       "       45.99764593, 36.31473776, 41.70800621, 39.48047762, 46.12173988,\n",
       "       44.53273909, 35.76840986, 41.40632461, 39.62238869, 27.6451853 ,\n",
       "       43.50201819, 48.3029886 , 25.93903508, 45.42170632, 41.44058371,\n",
       "       41.67830036, 40.69281002, 30.25305234, 36.56658456, 39.03291648,\n",
       "       32.79077487, 40.36700521, 33.0071553 , 44.88740263, 44.03105215,\n",
       "       32.95648807, 46.02220117, 36.74262418, 40.10115467, 37.24050728,\n",
       "       38.77423065, 41.59825193, 42.66382373, 40.06927156, 46.69922212,\n",
       "       43.70671695, 35.78692743, 39.81670153, 32.87644055, 43.34416827,\n",
       "       43.52585817, 44.74644532, 36.89946638, 32.72181193, 41.31968965,\n",
       "       40.578527  , 37.41074041, 46.3368196 , 47.7313864 , 37.36220958,\n",
       "       36.35802388, 46.46169833, 30.7062915 , 39.35292329, 35.09424432,\n",
       "       41.04623492, 40.52317796, 34.1856283 , 43.22067027, 44.59338554,\n",
       "       43.79931709, 42.92849575, 38.3978267 , 38.78337708, 40.70719085,\n",
       "       40.93618362, 35.02137491, 37.31208831, 34.8916631 , 43.31506204,\n",
       "       31.92886236, 51.43626641, 35.48063588, 38.45160296, 47.46625198,\n",
       "       46.59602915, 42.4551362 , 36.41980092, 41.52049659, 42.22147577,\n",
       "       30.98760778, 38.42932316, 36.44546668, 41.89504704, 31.06986753,\n",
       "       33.39619934, 42.96990879, 43.25362133, 37.56082179, 37.55110679,\n",
       "       41.90208723, 46.78115261, 38.98225212, 33.76754923, 41.31574148,\n",
       "       38.17393006, 42.32544482, 41.51688287, 41.03346121, 35.25957963,\n",
       "       38.45284209, 37.68390183, 38.41556146, 48.28021905, 39.38923712,\n",
       "       37.40572174, 45.04496774, 34.21534282, 38.95283781, 47.26336856,\n",
       "       33.78181028, 48.0409578 , 46.6077287 , 37.38496873, 47.94039177,\n",
       "       42.21915614, 36.05878795, 52.00938259, 32.68539734, 38.48471936,\n",
       "       29.24156826, 43.48184848, 38.7594771 , 46.35934824, 36.91635335,\n",
       "       41.08669015, 33.77064366, 33.80684504, 40.46638911, 51.5852247 ,\n",
       "       41.69414935, 49.27695854, 34.62964807, 42.49087665, 47.30666632,\n",
       "       38.93783904, 37.85021921, 29.88190332, 39.26180567, 34.57378841,\n",
       "       38.36750444, 42.99782718, 37.02536358, 50.51250478, 41.3749573 ,\n",
       "       48.049589  , 36.86786896, 32.96057262, 31.97436034, 39.90165915,\n",
       "       42.34165115, 42.14189403, 43.48494816, 37.3225494 , 39.01858585,\n",
       "       38.8573419 , 42.56605512, 42.9930263 , 38.53232339, 22.01594556,\n",
       "       43.6077508 , 46.89821932, 38.02764305, 29.87497891, 33.24727611,\n",
       "       37.86267441, 36.14252989, 38.40678467, 42.42683506, 42.33105302,\n",
       "       38.03895624, 28.3422199 , 43.76688329, 32.78283632, 43.98327632,\n",
       "       32.79831851, 42.05377848, 44.83493977, 40.62805122, 44.16784869,\n",
       "       39.41306718, 48.86907333, 36.15074802, 37.64085659, 37.98064689,\n",
       "       48.41373064, 49.04015962, 26.12181811, 30.91032386, 36.09076148,\n",
       "       28.31447416, 40.08541171, 29.36497899, 40.94275105, 36.18559227,\n",
       "       42.07816365, 40.15302044, 35.25449739, 39.42558597, 33.8696418 ,\n",
       "       39.24880818, 42.33809491, 43.45707694, 40.78758674, 39.72066755,\n",
       "       36.33166933, 34.2542864 , 35.40072786, 31.95879948, 42.53164934,\n",
       "       32.89153405, 36.38878867, 39.2535607 , 46.48650119, 36.6024132 ,\n",
       "       41.6477445 , 40.19092226, 37.9774558 , 38.8572236 , 43.19965991,\n",
       "       47.67921953, 40.35234881, 53.17065519, 42.54376511, 33.05922353,\n",
       "       39.7635326 , 44.15328422, 44.37818376, 44.24706258, 40.17886183,\n",
       "       33.83133224, 43.83950235, 43.79470504, 31.66279649, 37.08914419,\n",
       "       43.02356188, 36.15375556, 41.02613357, 45.12092555, 41.22434954,\n",
       "       38.45507194, 33.41480301, 41.10953999, 33.34851822, 43.21794013,\n",
       "       39.689788  , 47.69300856, 41.41671828, 39.1491853 , 51.40832471,\n",
       "       36.5944907 , 40.13644669, 38.6447639 , 33.49436176, 35.18215593,\n",
       "       37.78712578, 41.2143106 , 40.03877742, 47.88125343, 40.19565211,\n",
       "       32.73577847, 36.10172876, 41.48074819, 37.29039277, 42.35553891,\n",
       "       28.95630503, 42.15322928, 46.12165048, 44.60177931, 42.28891123,\n",
       "       42.37070744, 44.30232978, 34.97387574, 43.39244492, 47.03624775,\n",
       "       40.98521488, 44.49106036, 38.87293169, 32.66733165, 41.1188645 ,\n",
       "       46.51247342, 41.39149409, 36.90843319, 42.62980577, 43.0889759 ,\n",
       "       46.43081817, 38.60605849, 41.21595054, 42.78316916, 35.15588953,\n",
       "       44.19936921, 45.26872687, 36.20123661, 45.15989818, 35.594538  ,\n",
       "       45.33510065, 35.1141865 , 44.26735453, 39.21303701, 37.46657825,\n",
       "       40.21694557, 41.60696317, 39.56952522, 48.68705877, 32.3741985 ,\n",
       "       51.62187393, 46.47764881, 35.65130277, 47.67065477, 38.494401  ,\n",
       "       39.37823312, 37.35150194, 38.78553485, 30.76619492, 45.72051576,\n",
       "       39.22853708, 35.03106225, 49.10857698, 37.16299793, 47.09915942,\n",
       "       35.871779  , 42.85815256, 41.43462693, 40.63677505, 38.90105172,\n",
       "       30.08514329, 42.69175588, 42.28872194, 38.23134884, 40.53268502,\n",
       "       34.63703943, 38.27417327, 39.89349117, 35.38970871, 44.85605486,\n",
       "       43.91166491, 43.07321111, 45.9181249 , 39.74618136, 41.11603172,\n",
       "       39.45902138, 37.51373414, 44.47893864, 35.84283959, 44.90648984,\n",
       "       46.41172329, 41.07681429, 46.37445867, 41.2564714 , 47.14469516,\n",
       "       46.22363022, 38.02770065, 43.18370925, 33.17797198, 43.65089693,\n",
       "       36.58492482, 36.58794654, 35.26410823, 39.69754155, 40.25839921,\n",
       "       31.50164061, 49.28764983, 40.49908258, 37.73847314, 43.75266967,\n",
       "       39.13092991, 48.46001868, 39.38413374, 28.24120555, 39.55822567,\n",
       "       39.17128666, 42.82294967, 39.57207885, 46.11876544, 44.15901228,\n",
       "       29.39223107, 37.7573449 , 42.43000989, 43.68297606, 41.17286436,\n",
       "       34.71976873, 45.69458196, 43.99475579, 40.28322263, 42.90639659,\n",
       "       41.44411125, 43.69144113, 45.10999679, 42.15852316, 33.12797812,\n",
       "       37.93544075, 43.37448961, 41.25620994, 34.78801063, 38.32544989,\n",
       "       32.76047886, 40.45231077, 42.68896303, 42.85392352, 34.52124971,\n",
       "       43.44718711, 41.34630071, 46.01948152, 36.91521039, 39.36825168,\n",
       "       39.23041191, 44.12138456, 38.4172125 , 44.99018892, 42.4324622 ,\n",
       "       35.84512192, 44.72652012, 41.442304  , 43.86698313, 48.0960809 ,\n",
       "       32.74656617, 44.12497079, 39.97779215, 44.66531204, 38.82775737,\n",
       "       35.75223299, 43.72521238, 36.54363163, 39.42398102, 37.73045424,\n",
       "       35.84561588, 36.9928398 , 39.612041  , 41.90368055, 41.2283257 ,\n",
       "       43.16566311, 32.58085796, 41.0074502 , 30.30753858, 46.94885559,\n",
       "       41.82759397, 43.23112592, 39.36932775, 37.93977875, 38.84202251,\n",
       "       37.62849878, 43.71028323, 37.09495198, 38.63568704, 31.1923865 ,\n",
       "       37.69516862, 37.53503339, 44.15313924, 41.36417271, 40.43512836,\n",
       "       37.30318707, 38.58941965, 36.23482036, 45.86456399, 32.32531884,\n",
       "       36.60030971, 47.14243604, 48.81196027, 42.36914927, 37.73885633,\n",
       "       36.55522924, 48.4363337 , 39.20295853, 41.44774912, 50.4756882 ,\n",
       "       43.6232119 , 37.98346067, 27.88809004, 38.63102896, 53.55832515,\n",
       "       36.99412336, 35.404133  , 36.82993962, 44.07148892, 46.06588675,\n",
       "       36.99069051, 38.70750234, 46.37356351, 41.41176182, 45.87026142,\n",
       "       30.97494494, 39.57931545, 43.01720481, 45.94154459, 52.17886277,\n",
       "       38.13471061, 47.68513621, 33.84996933, 38.14880801, 42.5662396 ,\n",
       "       45.52075253, 48.18819114, 37.81360557, 48.8656805 , 37.93818698,\n",
       "       35.21829868, 29.53558886, 37.72338737, 45.24370392, 34.72574386,\n",
       "       34.7192466 , 49.94059817, 36.80406295, 47.59274974, 36.81571342,\n",
       "       39.7043462 , 36.75405963, 47.98907363, 50.04260261, 40.26713408,\n",
       "       38.35615619, 40.82742226, 35.30191087, 42.96124861, 43.16030099,\n",
       "       44.97591318, 38.01281531, 44.9419511 , 45.37538677, 34.85561763,\n",
       "       42.85028418, 47.51308387, 45.52585881, 42.96940674, 48.29508382,\n",
       "       34.82618487, 42.16258379, 37.11254202, 44.08879614, 39.34201587,\n",
       "       40.67258161, 44.2960492 , 42.60499426, 42.59129384, 36.49312511,\n",
       "       36.90871164, 37.90001639, 45.57858981, 47.19827974, 39.92790763,\n",
       "       40.75054491, 28.05917006, 43.84367475, 41.24553602, 46.84933362,\n",
       "       40.26359023, 36.62789207, 36.12982971, 34.10711517, 41.73665797,\n",
       "       40.77126267, 39.15471557, 47.33089452, 32.49326624, 41.23767391,\n",
       "       49.01786206, 50.79032857, 26.83153845, 40.89976238, 44.05306387,\n",
       "       38.47288933, 37.53672514, 45.15548405, 37.05140059, 41.17004151,\n",
       "       46.52583613, 41.98235878, 35.34779387, 41.40733716, 43.04036958,\n",
       "       39.88379254, 38.19180282, 44.48032605, 47.15768144, 43.5084675 ,\n",
       "       46.15286502, 37.49956181, 30.75647781, 34.71841186, 39.64790443,\n",
       "       29.47141809, 39.29316042, 41.84578141, 37.99069675, 33.95304158,\n",
       "       40.5999696 , 42.46326736, 38.30379591, 33.39497774, 30.83825923,\n",
       "       45.62438901, 42.27940383, 33.39452105, 49.02683595, 41.92958986,\n",
       "       41.99038601, 45.10556991, 46.7121796 , 35.69325865, 38.6874829 ,\n",
       "       42.97201013, 40.75312204, 41.97987472, 40.12881918, 37.39323325])"
      ]
     },
     "execution_count": 30,
     "metadata": {},
     "output_type": "execute_result"
    }
   ],
   "source": [
    "sample"
   ]
  },
  {
   "cell_type": "code",
   "execution_count": 31,
   "metadata": {},
   "outputs": [
    {
     "data": {
      "text/plain": [
       "(array([ 1.,  0.,  0.,  0.,  0.,  1.,  2.,  5.,  4.,  9., 10., 13., 24.,\n",
       "        24., 12., 29., 31., 23., 25., 12., 19., 12., 21., 12.,  9.,  7.,\n",
       "        11., 14.,  7., 24., 25., 32., 29., 46., 55., 57., 54., 54., 52.,\n",
       "        51., 45., 33., 32., 25., 22., 11.,  6.,  3.,  4.,  3.]),\n",
       " array([ 2.87565192,  3.88930539,  4.90295885,  5.91661232,  6.93026578,\n",
       "         7.94391925,  8.95757271,  9.97122617, 10.98487964, 11.9985331 ,\n",
       "        13.01218657, 14.02584003, 15.0394935 , 16.05314696, 17.06680043,\n",
       "        18.08045389, 19.09410735, 20.10776082, 21.12141428, 22.13506775,\n",
       "        23.14872121, 24.16237468, 25.17602814, 26.18968161, 27.20333507,\n",
       "        28.21698854, 29.230642  , 30.24429546, 31.25794893, 32.27160239,\n",
       "        33.28525586, 34.29890932, 35.31256279, 36.32621625, 37.33986972,\n",
       "        38.35352318, 39.36717664, 40.38083011, 41.39448357, 42.40813704,\n",
       "        43.4217905 , 44.43544397, 45.44909743, 46.4627509 , 47.47640436,\n",
       "        48.49005782, 49.50371129, 50.51736475, 51.53101822, 52.54467168,\n",
       "        53.55832515]),\n",
       " <BarContainer object of 50 artists>)"
      ]
     },
     "execution_count": 31,
     "metadata": {},
     "output_type": "execute_result"
    },
    {
     "data": {
      "image/png": "[encoded data removed]",
      "text/plain": [
       "<Figure size 432x288 with 1 Axes>"
      ]
     },
     "metadata": {
      "needs_background": "light"
     },
     "output_type": "display_data"
    }
   ],
   "source": [
    "# plot histogram bins = 50\n",
    "plt.hist(sample,bins=50)"
   ]
  },
  {
   "cell_type": "code",
   "execution_count": 32,
   "metadata": {},
   "outputs": [
    {
     "data": {
      "text/plain": [
       "KernelDensity(bandwidth=5)"
      ]
     },
     "execution_count": 32,
     "metadata": {},
     "output_type": "execute_result"
    }
   ],
   "source": [
    "from sklearn.neighbors import KernelDensity\n",
    "\n",
    "model = KernelDensity(bandwidth=5, kernel='gaussian')\n",
    "\n",
    "# convert data to a 2D array\n",
    "sample = sample.reshape((len(sample), 1))\n",
    "\n",
    "model.fit(sample)"
   ]
  },
  {
   "cell_type": "code",
   "execution_count": 33,
   "metadata": {},
   "outputs": [],
   "source": [
    "values = np.linspace(sample.min(),sample.max(),100)\n",
    "\n",
    "values = values.reshape((len(values), 1))"
   ]
  },
  {
   "cell_type": "code",
   "execution_count": 34,
   "metadata": {},
   "outputs": [],
   "source": [
    "probabilities = model.score_samples(values)\n",
    "probabilities = np.exp(probabilities)"
   ]
  },
  {
   "cell_type": "markdown",
   "metadata": {},
   "source": [
    "`score_samples(values)` returns the log-density estimate of the input samples values. This is because the `score_samples()` method of the KernelDensity class returns the logarithm of the probability density estimate rather than the actual probability density estimate."
   ]
  },
  {
   "cell_type": "code",
   "execution_count": 35,
   "metadata": {},
   "outputs": [
    {
     "data": {
      "image/png": "[encoded data removed]",
      "text/plain": [
       "<Figure size 432x288 with 1 Axes>"
      ]
     },
     "metadata": {
      "needs_background": "light"
     },
     "output_type": "display_data"
    }
   ],
   "source": [
    "plt.hist(sample, bins=50, density=True)\n",
    "plt.plot(values[:], probabilities)\n",
    "plt.show()"
   ]
  },
  {
   "cell_type": "code",
   "execution_count": 36,
   "metadata": {},
   "outputs": [
    {
     "data": {
      "text/plain": [
       "<AxesSubplot:ylabel='Density'>"
      ]
     },
     "execution_count": 36,
     "metadata": {},
     "output_type": "execute_result"
    },
    {
     "data": {
      "image/png": "[encoded data removed]",
      "text/plain": [
       "<Figure size 432x288 with 1 Axes>"
      ]
     },
     "metadata": {
      "needs_background": "light"
     },
     "output_type": "display_data"
    }
   ],
   "source": [
    "sns.kdeplot(sample.reshape(1000),bw_adjust=1)"
   ]
  },
  {
   "cell_type": "code",
   "execution_count": 37,
   "metadata": {},
   "outputs": [
    {
     "data": {
      "text/plain": [
       "<AxesSubplot:ylabel='Density'>"
      ]
     },
     "execution_count": 37,
     "metadata": {},
     "output_type": "execute_result"
    },
    {
     "data": {
      "image/png": "[encoded data removed]",
      "text/plain": [
       "<Figure size 432x288 with 1 Axes>"
      ]
     },
     "metadata": {
      "needs_background": "light"
     },
     "output_type": "display_data"
    }
   ],
   "source": [
    "sns.kdeplot(sample.reshape(1000),bw_adjust=5)\n"
   ]
  },
  {
   "cell_type": "code",
   "execution_count": 38,
   "metadata": {},
   "outputs": [
    {
     "data": {
      "text/plain": [
       "<AxesSubplot:ylabel='Density'>"
      ]
     },
     "execution_count": 38,
     "metadata": {},
     "output_type": "execute_result"
    },
    {
     "data": {
      "image/png": "[encoded data removed]",
      "text/plain": [
       "<Figure size 432x288 with 1 Axes>"
      ]
     },
     "metadata": {
      "needs_background": "light"
     },
     "output_type": "display_data"
    }
   ],
   "source": [
    "sns.kdeplot(sample.reshape(1000),bw_adjust=2)\n"
   ]
  },
  {
   "cell_type": "code",
   "execution_count": 49,
   "metadata": {},
   "outputs": [],
   "source": [
    "# how to use PDF in Data science"
   ]
  },
  {
   "cell_type": "code",
   "execution_count": 39,
   "metadata": {},
   "outputs": [],
   "source": [
    "iris = sns.load_dataset('iris')"
   ]
  },
  {
   "cell_type": "code",
   "execution_count": 40,
   "metadata": {},
   "outputs": [
    {
     "data": {
      "text/html": [
       "<div>\n",
       "<style scoped>\n",
       "    .dataframe tbody tr th:only-of-type {\n",
       "        vertical-align: middle;\n",
       "    }\n",
       "\n",
       "    .dataframe tbody tr th {\n",
       "        vertical-align: top;\n",
       "    }\n",
       "\n",
       "    .dataframe thead th {\n",
       "        text-align: right;\n",
       "    }\n",
       "</style>\n",
       "<table border=\"1\" class=\"dataframe\">\n",
       "  <thead>\n",
       "    <tr style=\"text-align: right;\">\n",
       "      <th></th>\n",
       "      <th>sepal_length</th>\n",
       "      <th>sepal_width</th>\n",
       "      <th>petal_length</th>\n",
       "      <th>petal_width</th>\n",
       "      <th>species</th>\n",
       "    </tr>\n",
       "  </thead>\n",
       "  <tbody>\n",
       "    <tr>\n",
       "      <th>0</th>\n",
       "      <td>5.1</td>\n",
       "      <td>3.5</td>\n",
       "      <td>1.4</td>\n",
       "      <td>0.2</td>\n",
       "      <td>setosa</td>\n",
       "    </tr>\n",
       "    <tr>\n",
       "      <th>1</th>\n",
       "      <td>4.9</td>\n",
       "      <td>3.0</td>\n",
       "      <td>1.4</td>\n",
       "      <td>0.2</td>\n",
       "      <td>setosa</td>\n",
       "    </tr>\n",
       "    <tr>\n",
       "      <th>2</th>\n",
       "      <td>4.7</td>\n",
       "      <td>3.2</td>\n",
       "      <td>1.3</td>\n",
       "      <td>0.2</td>\n",
       "      <td>setosa</td>\n",
       "    </tr>\n",
       "    <tr>\n",
       "      <th>3</th>\n",
       "      <td>4.6</td>\n",
       "      <td>3.1</td>\n",
       "      <td>1.5</td>\n",
       "      <td>0.2</td>\n",
       "      <td>setosa</td>\n",
       "    </tr>\n",
       "    <tr>\n",
       "      <th>4</th>\n",
       "      <td>5.0</td>\n",
       "      <td>3.6</td>\n",
       "      <td>1.4</td>\n",
       "      <td>0.2</td>\n",
       "      <td>setosa</td>\n",
       "    </tr>\n",
       "  </tbody>\n",
       "</table>\n",
       "</div>"
      ],
      "text/plain": [
       "   sepal_length  sepal_width  petal_length  petal_width species\n",
       "0           5.1          3.5           1.4          0.2  setosa\n",
       "1           4.9          3.0           1.4          0.2  setosa\n",
       "2           4.7          3.2           1.3          0.2  setosa\n",
       "3           4.6          3.1           1.5          0.2  setosa\n",
       "4           5.0          3.6           1.4          0.2  setosa"
      ]
     },
     "execution_count": 40,
     "metadata": {},
     "output_type": "execute_result"
    }
   ],
   "source": [
    "iris.head()"
   ]
  },
  {
   "cell_type": "code",
   "execution_count": 41,
   "metadata": {},
   "outputs": [
    {
     "data": {
      "text/plain": [
       "<AxesSubplot:xlabel='sepal_length', ylabel='Density'>"
      ]
     },
     "execution_count": 41,
     "metadata": {},
     "output_type": "execute_result"
    },
    {
     "data": {
      "image/png": "[encoded data removed]",
      "text/plain": [
       "<Figure size 432x288 with 1 Axes>"
      ]
     },
     "metadata": {
      "needs_background": "light"
     },
     "output_type": "display_data"
    }
   ],
   "source": [
    "sns.kdeplot(data=iris,x='sepal_length',hue='species')"
   ]
  },
  {
   "cell_type": "code",
   "execution_count": 42,
   "metadata": {},
   "outputs": [
    {
     "data": {
      "text/plain": [
       "<AxesSubplot:xlabel='sepal_width', ylabel='Density'>"
      ]
     },
     "execution_count": 42,
     "metadata": {},
     "output_type": "execute_result"
    },
    {
     "data": {
      "image/png": "[encoded data removed]",
      "text/plain": [
       "<Figure size 432x288 with 1 Axes>"
      ]
     },
     "metadata": {
      "needs_background": "light"
     },
     "output_type": "display_data"
    }
   ],
   "source": [
    "sns.kdeplot(data=iris,x='sepal_width',hue='species')\n"
   ]
  },
  {
   "cell_type": "code",
   "execution_count": 43,
   "metadata": {},
   "outputs": [
    {
     "data": {
      "text/plain": [
       "<AxesSubplot:xlabel='petal_length', ylabel='Density'>"
      ]
     },
     "execution_count": 43,
     "metadata": {},
     "output_type": "execute_result"
    },
    {
     "data": {
      "image/png": "[encoded data removed]",
      "text/plain": [
       "<Figure size 432x288 with 1 Axes>"
      ]
     },
     "metadata": {
      "needs_background": "light"
     },
     "output_type": "display_data"
    }
   ],
   "source": [
    "sns.kdeplot(data=iris,x='petal_length',hue='species')\n"
   ]
  },
  {
   "cell_type": "code",
   "execution_count": 44,
   "metadata": {},
   "outputs": [
    {
     "data": {
      "text/plain": [
       "<AxesSubplot:xlabel='petal_width', ylabel='Density'>"
      ]
     },
     "execution_count": 44,
     "metadata": {},
     "output_type": "execute_result"
    },
    {
     "data": {
      "image/png": "[encoded data removed]",
      "text/plain": [
       "<Figure size 432x288 with 1 Axes>"
      ]
     },
     "metadata": {
      "needs_background": "light"
     },
     "output_type": "display_data"
    }
   ],
   "source": [
    "sns.kdeplot(data=iris,x='petal_width',hue='species')\n"
   ]
  },
  {
   "cell_type": "code",
   "execution_count": 46,
   "metadata": {},
   "outputs": [],
   "source": [
    "titanic =sns.load_dataset('titanic')"
   ]
  },
  {
   "cell_type": "code",
   "execution_count": 47,
   "metadata": {},
   "outputs": [
    {
     "data": {
      "text/html": [
       "<div>\n",
       "<style scoped>\n",
       "    .dataframe tbody tr th:only-of-type {\n",
       "        vertical-align: middle;\n",
       "    }\n",
       "\n",
       "    .dataframe tbody tr th {\n",
       "        vertical-align: top;\n",
       "    }\n",
       "\n",
       "    .dataframe thead th {\n",
       "        text-align: right;\n",
       "    }\n",
       "</style>\n",
       "<table border=\"1\" class=\"dataframe\">\n",
       "  <thead>\n",
       "    <tr style=\"text-align: right;\">\n",
       "      <th></th>\n",
       "      <th>survived</th>\n",
       "      <th>pclass</th>\n",
       "      <th>sex</th>\n",
       "      <th>age</th>\n",
       "      <th>sibsp</th>\n",
       "      <th>parch</th>\n",
       "      <th>fare</th>\n",
       "      <th>embarked</th>\n",
       "      <th>class</th>\n",
       "      <th>who</th>\n",
       "      <th>adult_male</th>\n",
       "      <th>deck</th>\n",
       "      <th>embark_town</th>\n",
       "      <th>alive</th>\n",
       "      <th>alone</th>\n",
       "    </tr>\n",
       "  </thead>\n",
       "  <tbody>\n",
       "    <tr>\n",
       "      <th>0</th>\n",
       "      <td>0</td>\n",
       "      <td>3</td>\n",
       "      <td>male</td>\n",
       "      <td>22.0</td>\n",
       "      <td>1</td>\n",
       "      <td>0</td>\n",
       "      <td>7.2500</td>\n",
       "      <td>S</td>\n",
       "      <td>Third</td>\n",
       "      <td>man</td>\n",
       "      <td>True</td>\n",
       "      <td>NaN</td>\n",
       "      <td>Southampton</td>\n",
       "      <td>no</td>\n",
       "      <td>False</td>\n",
       "    </tr>\n",
       "    <tr>\n",
       "      <th>1</th>\n",
       "      <td>1</td>\n",
       "      <td>1</td>\n",
       "      <td>female</td>\n",
       "      <td>38.0</td>\n",
       "      <td>1</td>\n",
       "      <td>0</td>\n",
       "      <td>71.2833</td>\n",
       "      <td>C</td>\n",
       "      <td>First</td>\n",
       "      <td>woman</td>\n",
       "      <td>False</td>\n",
       "      <td>C</td>\n",
       "      <td>Cherbourg</td>\n",
       "      <td>yes</td>\n",
       "      <td>False</td>\n",
       "    </tr>\n",
       "    <tr>\n",
       "      <th>2</th>\n",
       "      <td>1</td>\n",
       "      <td>3</td>\n",
       "      <td>female</td>\n",
       "      <td>26.0</td>\n",
       "      <td>0</td>\n",
       "      <td>0</td>\n",
       "      <td>7.9250</td>\n",
       "      <td>S</td>\n",
       "      <td>Third</td>\n",
       "      <td>woman</td>\n",
       "      <td>False</td>\n",
       "      <td>NaN</td>\n",
       "      <td>Southampton</td>\n",
       "      <td>yes</td>\n",
       "      <td>True</td>\n",
       "    </tr>\n",
       "    <tr>\n",
       "      <th>3</th>\n",
       "      <td>1</td>\n",
       "      <td>1</td>\n",
       "      <td>female</td>\n",
       "      <td>35.0</td>\n",
       "      <td>1</td>\n",
       "      <td>0</td>\n",
       "      <td>53.1000</td>\n",
       "      <td>S</td>\n",
       "      <td>First</td>\n",
       "      <td>woman</td>\n",
       "      <td>False</td>\n",
       "      <td>C</td>\n",
       "      <td>Southampton</td>\n",
       "      <td>yes</td>\n",
       "      <td>False</td>\n",
       "    </tr>\n",
       "    <tr>\n",
       "      <th>4</th>\n",
       "      <td>0</td>\n",
       "      <td>3</td>\n",
       "      <td>male</td>\n",
       "      <td>35.0</td>\n",
       "      <td>0</td>\n",
       "      <td>0</td>\n",
       "      <td>8.0500</td>\n",
       "      <td>S</td>\n",
       "      <td>Third</td>\n",
       "      <td>man</td>\n",
       "      <td>True</td>\n",
       "      <td>NaN</td>\n",
       "      <td>Southampton</td>\n",
       "      <td>no</td>\n",
       "      <td>True</td>\n",
       "    </tr>\n",
       "  </tbody>\n",
       "</table>\n",
       "</div>"
      ],
      "text/plain": [
       "   survived  pclass     sex   age  sibsp  parch     fare embarked  class  \\\n",
       "0         0       3    male  22.0      1      0   7.2500        S  Third   \n",
       "1         1       1  female  38.0      1      0  71.2833        C  First   \n",
       "2         1       3  female  26.0      0      0   7.9250        S  Third   \n",
       "3         1       1  female  35.0      1      0  53.1000        S  First   \n",
       "4         0       3    male  35.0      0      0   8.0500        S  Third   \n",
       "\n",
       "     who  adult_male deck  embark_town alive  alone  \n",
       "0    man        True  NaN  Southampton    no  False  \n",
       "1  woman       False    C    Cherbourg   yes  False  \n",
       "2  woman       False  NaN  Southampton   yes   True  \n",
       "3  woman       False    C  Southampton   yes  False  \n",
       "4    man        True  NaN  Southampton    no   True  "
      ]
     },
     "execution_count": 47,
     "metadata": {},
     "output_type": "execute_result"
    }
   ],
   "source": [
    "titanic.head()"
   ]
  },
  {
   "cell_type": "code",
   "execution_count": 48,
   "metadata": {},
   "outputs": [
    {
     "data": {
      "text/plain": [
       "<AxesSubplot:xlabel='age', ylabel='Density'>"
      ]
     },
     "execution_count": 48,
     "metadata": {},
     "output_type": "execute_result"
    },
    {
     "data": {
      "image/png": "[encoded data removed]",
      "text/plain": [
       "<Figure size 432x288 with 1 Axes>"
      ]
     },
     "metadata": {
      "needs_background": "light"
     },
     "output_type": "display_data"
    }
   ],
   "source": [
    "sns.kdeplot(data=titanic,x='age',hue='survived')\n"
   ]
  },
  {
   "cell_type": "code",
   "execution_count": null,
   "metadata": {},
   "outputs": [],
   "source": [
    "# how to use CDF in Data science"
   ]
  },
  {
   "cell_type": "code",
   "execution_count": 50,
   "metadata": {},
   "outputs": [
    {
     "data": {
      "text/plain": [
       "<AxesSubplot:xlabel='petal_width', ylabel='Density'>"
      ]
     },
     "execution_count": 50,
     "metadata": {},
     "output_type": "execute_result"
    },
    {
     "data": {
      "image/png": "[encoded data removed]",
      "text/plain": [
       "<Figure size 432x288 with 1 Axes>"
      ]
     },
     "metadata": {
      "needs_background": "light"
     },
     "output_type": "display_data"
    }
   ],
   "source": [
    "sns.kdeplot(data=iris,x='petal_width',hue='species')\n",
    "sns.ecdfplot(data=iris,x='petal_width',hue='species')\n",
    "\n",
    "\n"
   ]
  },
  {
   "cell_type": "code",
   "execution_count": 51,
   "metadata": {},
   "outputs": [],
   "source": [
    "# 2D Density Plots"
   ]
  },
  {
   "cell_type": "code",
   "execution_count": 53,
   "metadata": {},
   "outputs": [
    {
     "data": {
      "text/plain": [
       "<seaborn.axisgrid.JointGrid at 0x1b7e27a0880>"
      ]
     },
     "execution_count": 53,
     "metadata": {},
     "output_type": "execute_result"
    },
    {
     "data": {
      "image/png": "[encoded data removed]",
      "text/plain": [
       "<Figure size 432x432 with 4 Axes>"
      ]
     },
     "metadata": {
      "needs_background": "light"
     },
     "output_type": "display_data"
    }
   ],
   "source": [
    "sns.jointplot(data=iris,x='petal_length',y='sepal_length',kind='kde',fill=True,cbar=True)"
   ]
  },
  {
   "cell_type": "code",
   "execution_count": null,
   "metadata": {},
   "outputs": [],
   "source": []
  },
  {
   "cell_type": "code",
   "execution_count": null,
   "metadata": {},
   "outputs": [],
   "source": []
  },
  {
   "cell_type": "code",
   "execution_count": null,
   "metadata": {},
   "outputs": [],
   "source": []
  },
  {
   "cell_type": "code",
   "execution_count": null,
   "metadata": {},
   "outputs": [],
   "source": []
  },
  {
   "cell_type": "code",
   "execution_count": null,
   "metadata": {},
   "outputs": [],
   "source": []
  },
  {
   "cell_type": "code",
   "execution_count": null,
   "metadata": {},
   "outputs": [],
   "source": []
  },
  {
   "cell_type": "code",
   "execution_count": null,
   "metadata": {},
   "outputs": [],
   "source": []
  },
  {
   "cell_type": "code",
   "execution_count": null,
   "metadata": {},
   "outputs": [],
   "source": []
  },
  {
   "cell_type": "code",
   "execution_count": null,
   "metadata": {},
   "outputs": [],
   "source": []
  },
  {
   "cell_type": "code",
   "execution_count": null,
   "metadata": {},
   "outputs": [],
   "source": []
  },
  {
   "cell_type": "code",
   "execution_count": null,
   "metadata": {},
   "outputs": [],
   "source": []
  },
  {
   "cell_type": "code",
   "execution_count": null,
   "metadata": {},
   "outputs": [],
   "source": []
  },
  {
   "cell_type": "code",
   "execution_count": null,
   "metadata": {},
   "outputs": [],
   "source": []
  },
  {
   "cell_type": "code",
   "execution_count": null,
   "metadata": {},
   "outputs": [],
   "source": []
  },
  {
   "cell_type": "code",
   "execution_count": null,
   "metadata": {},
   "outputs": [],
   "source": []
  },
  {
   "cell_type": "code",
   "execution_count": null,
   "metadata": {},
   "outputs": [],
   "source": []
  },
  {
   "cell_type": "code",
   "execution_count": null,
   "metadata": {},
   "outputs": [],
   "source": []
  },
  {
   "cell_type": "code",
   "execution_count": null,
   "metadata": {},
   "outputs": [],
   "source": []
  },
  {
   "cell_type": "code",
   "execution_count": null,
   "metadata": {},
   "outputs": [],
   "source": []
  },
  {
   "cell_type": "code",
   "execution_count": null,
   "metadata": {},
   "outputs": [],
   "source": []
  },
  {
   "cell_type": "code",
   "execution_count": null,
   "metadata": {},
   "outputs": [],
   "source": []
  }
 ],
 "metadata": {
  "kernelspec": {
   "display_name": "base",
   "language": "python",
   "name": "python3"
  },
  "language_info": {
   "codemirror_mode": {
    "name": "ipython",
    "version": 3
   },
   "file_extension": ".py",
   "mimetype": "text/x-python",
   "name": "python",
   "nbconvert_exporter": "python",
   "pygments_lexer": "ipython3",
   "version": "3.9.12"
  }
 },
 "nbformat": 4,
 "nbformat_minor": 2
}
